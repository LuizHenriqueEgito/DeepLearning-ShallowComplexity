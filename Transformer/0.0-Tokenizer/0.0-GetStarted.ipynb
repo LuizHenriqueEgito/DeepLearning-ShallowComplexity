{
 "cells": [
  {
   "cell_type": "markdown",
   "id": "1564daa0-6bc7-4e5a-9acc-343e6a2e7ba5",
   "metadata": {},
   "source": [
    "# **Tokenizer**"
   ]
  },
  {
   "cell_type": "markdown",
   "id": "fc6b9848-0705-4f65-b727-765c70edd5e3",
   "metadata": {},
   "source": [
    "## O que é (What is it?)"
   ]
  },
  {
   "cell_type": "markdown",
   "id": "cb999c4d-78d8-47c6-87a1-f1c848ae10b7",
   "metadata": {},
   "source": []
  },
  {
   "cell_type": "markdown",
   "id": "69620f74-7b52-43fb-aadd-e4650e654c64",
   "metadata": {},
   "source": [
    "## Exemplos de uso (Usage examples)"
   ]
  },
  {
   "cell_type": "markdown",
   "id": "7403355a-d1f9-47e3-ad75-ca32299e3e0e",
   "metadata": {},
   "source": [
    "Nesta seção vamos explorar 3 tipos de tokenizadores:\n",
    "1. Tiktoken\n",
    "2. Tokenizers prontos (hugging face)\n",
    "3. Tokenizers pré treinados (hugging face)"
   ]
  },
  {
   "cell_type": "markdown",
   "id": "96fc2535-1d02-4b30-a528-06876a6c31e5",
   "metadata": {},
   "source": [
    "### Tiktoken"
   ]
  },
  {
   "cell_type": "markdown",
   "id": "64a2094e-9af4-4976-abcd-032c48bbed99",
   "metadata": {},
   "source": [
    "Pontos importantes de uso. O tiktoken é utilizado quando se tem interação com o chatGPT, é uma biblioteca criada pela openAI e ela é util para:\n",
    "`contagem de tokens`, você precisa saber isso para enviar seu texto para a API do chatGPT por exemplo. Esse modulo é extremamente `rapido`."
   ]
  },
  {
   "cell_type": "code",
   "execution_count": null,
   "id": "fb97aedf-9658-40b4-9a7f-8a8f1ba471a8",
   "metadata": {},
   "outputs": [],
   "source": []
  },
  {
   "cell_type": "markdown",
   "id": "1ecb70f4-7821-4bb7-b961-9ebeb147cc2e",
   "metadata": {},
   "source": [
    "### Tokenizers prontos (Hugging Face)"
   ]
  },
  {
   "cell_type": "markdown",
   "id": "f207c3d5-dae5-4f1c-95b3-49e054383fd0",
   "metadata": {},
   "source": [
    "Você pode utilizar o `AutoTokenizer`, ou por exemplo se sabe a familia que seu tokenizer pertence como por exemplo google-bert/bert-base-uncased você pode usar `BertTokenizer`"
   ]
  },
  {
   "cell_type": "code",
   "execution_count": 1,
   "id": "57c850ee-cbc9-4cf3-9f9f-72e1d28d3e52",
   "metadata": {},
   "outputs": [],
   "source": [
    "from transformers import AutoTokenizer, BertTokenizer"
   ]
  },
  {
   "cell_type": "code",
   "execution_count": 3,
   "id": "8aa19eb7-a952-4eff-b2db-8b59a1999351",
   "metadata": {},
   "outputs": [],
   "source": [
    "auto_tokenizer = AutoTokenizer.from_pretrained(\"google-bert/bert-base-uncased\")\n",
    "bert_tokenizer = BertTokenizer.from_pretrained(\"google-bert/bert-base-uncased\")"
   ]
  },
  {
   "cell_type": "code",
   "execution_count": 4,
   "id": "4bb6dadc-e487-4fc3-9f0f-53381e0e0549",
   "metadata": {},
   "outputs": [
    {
     "name": "stdout",
     "output_type": "stream",
     "text": [
      "TOKENS AUTO TOKENIZER: ['es', '##se', 'text', '##o', 'que', 'sera', 'token', '##iza', '##do', '.']\n",
      "TOKENS BERT TOKENIZER: ['es', '##se', 'text', '##o', 'que', 'sera', 'token', '##iza', '##do', '.']`\n",
      "Os tokens são iguais: True\n"
     ]
    }
   ],
   "source": [
    "texto = 'Esse texto que será tokenizado.'\n",
    "tokens_auto_tokenizer = auto_tokenizer.tokenize(texto)\n",
    "tokens_bert_tokenizer = bert_tokenizer.tokenize(texto)\n",
    "\n",
    "print(f'TOKENS AUTO TOKENIZER: {tokens_auto_tokenizer}')\n",
    "print(f'TOKENS BERT TOKENIZER: {tokens_bert_tokenizer}`')\n",
    "print(f'Os tokens são iguais: {tokens_auto_tokenizer == tokens_bert_tokenizer}')"
   ]
  },
  {
   "cell_type": "markdown",
   "id": "7c79afb7-9581-41a0-9842-dc37e2ce4aa2",
   "metadata": {},
   "source": [
    "Você pode utilizar tokenizer já treinados disponibilizados no hugging face. Para isso basta saber o nome do tokenizer que deseja utilizar:\n",
    "`google-bert/bert-base-uncased` ou `xlnet/xlnet-base-cased` por exemplo."
   ]
  },
  {
   "cell_type": "markdown",
   "id": "660b1d2c-bb3b-4710-bfed-cd12235b282a",
   "metadata": {},
   "source": [
    "Podemos utilizar um tokenizer focado no português `pierreguillou/bert-base-cased-squad-v1.1-portuguese`"
   ]
  },
  {
   "cell_type": "code",
   "execution_count": 5,
   "id": "b50cfc0e-fdd2-489f-9005-e586bd939722",
   "metadata": {},
   "outputs": [
    {
     "name": "stdout",
     "output_type": "stream",
     "text": [
      "TOKENS BERT BASE PT-BT: ['Esse', 'texto', 'que', 'será', 'to', '##ken', '##izado', '.']\n"
     ]
    }
   ],
   "source": [
    "tokenizer = AutoTokenizer.from_pretrained(\"pierreguillou/bert-base-cased-squad-v1.1-portuguese\")\n",
    "tokens = tokenizer.tokenize(texto)\n",
    "print(f'TOKENS BERT BASE PT-BT: {tokens}')"
   ]
  },
  {
   "cell_type": "code",
   "execution_count": 6,
   "id": "320f05be-9ae4-4afd-8250-fc458d24263f",
   "metadata": {},
   "outputs": [
    {
     "name": "stdout",
     "output_type": "stream",
     "text": [
      "TOKENS IDS: [3758, 4054, 179, 2810, 374, 8110, 2303, 119]\n"
     ]
    }
   ],
   "source": [
    "# podemos encodar de tokens para ids\n",
    "token_ids = tokenizer.encode(texto, add_special_tokens=False)\n",
    "print(f'TOKENS IDS: {token_ids}')"
   ]
  },
  {
   "cell_type": "code",
   "execution_count": 7,
   "id": "af35f011-e5c6-490c-8f15-a441318e5e60",
   "metadata": {},
   "outputs": [
    {
     "data": {
      "text/plain": [
       "'Esse texto que será tokenizado.'"
      ]
     },
     "execution_count": 7,
     "metadata": {},
     "output_type": "execute_result"
    }
   ],
   "source": [
    "# e voltar de tokens ids para texto\n",
    "texto = tokenizer.decode(token_ids)\n",
    "texto"
   ]
  },
  {
   "cell_type": "code",
   "execution_count": 10,
   "id": "46e253b5-ed6b-41d0-acc8-5652a55bb829",
   "metadata": {},
   "outputs": [
    {
     "name": "stdout",
     "output_type": "stream",
     "text": [
      "TOKENS ESPECIAIS: \n",
      " {'unk_token': '[UNK]', 'sep_token': '[SEP]', 'pad_token': '[PAD]', 'cls_token': '[CLS]', 'mask_token': '[MASK]'}\n",
      "\n",
      "TOKENS ESPECIAIS: \n",
      " {'[UNK]': 100, '[SEP]': 102, '[PAD]': 0, '[CLS]': 101, '[MASK]': 103}\n"
     ]
    }
   ],
   "source": [
    "# podemos ver os tokens especiais do nosso tokenizador e seus ids\n",
    "print('TOKENS ESPECIAIS: \\n', tokenizer.special_tokens_map)\n",
    "special_token_ids = {\n",
    "    token: tokenizer.convert_tokens_to_ids(token) for token in tokenizer.special_tokens_map.values()\n",
    "}\n",
    "print('\\nTOKENS ESPECIAIS: \\n', special_token_ids)"
   ]
  },
  {
   "cell_type": "markdown",
   "id": "221da250-e3a4-4c53-8aab-2ddbe7efec25",
   "metadata": {},
   "source": [
    "Utilizando o tokenizer você pode deixar bem definido algumas configurações importantes, como por exemplo, truncar ou adicionar o token de PAD aos tokens conforme um max_lenght especifico, falar qual será o tipo da saída, tensor pytorch, numpy aray, tensorflow etc."
   ]
  },
  {
   "cell_type": "code",
   "execution_count": 34,
   "id": "e3aae611-81a7-48ee-92bc-93a49dca32ea",
   "metadata": {},
   "outputs": [],
   "source": [
    "texto = 'Esse texto será tokenizado, com configurações.'\n",
    "\n",
    "tokens = tokenizer(\n",
    "    texto,  # o que será tokenizado\n",
    "    add_special_tokens=True,  # adiciona os tokens especiais [CLS], [SEP]\n",
    "    max_length=16,  # tamanho do texto, o que for menor que 16 é preenchido por [PAD] o que for maior é truncado\n",
    "    truncation=True,  # Deixa explicito que será truncado\n",
    "    padding='max_length',  # Adiciona [PAD] até se ter o max_length desejado\n",
    "    return_tensors='pt'  # retorna pytorch tensores\n",
    ")"
   ]
  },
  {
   "cell_type": "code",
   "execution_count": 41,
   "id": "857696c3-d0fd-4535-86c0-e6dc30b268cd",
   "metadata": {},
   "outputs": [
    {
     "name": "stdout",
     "output_type": "stream",
     "text": [
      "RETORNO DO TOKENIZER:\n",
      " {'input_ids': tensor([[ 101, 3758, 4054, 2810,  374, 8110, 2303,  117,  170, 6732, 2406,  119,\n",
      "          102,    0,    0,    0]]), 'token_type_ids': tensor([[0, 0, 0, 0, 0, 0, 0, 0, 0, 0, 0, 0, 0, 0, 0, 0]]), 'attention_mask': tensor([[1, 1, 1, 1, 1, 1, 1, 1, 1, 1, 1, 1, 1, 0, 0, 0]])}\n"
     ]
    }
   ],
   "source": [
    "print('RETORNO DO TOKENIZER:\\n', tokens)"
   ]
  },
  {
   "cell_type": "code",
   "execution_count": 42,
   "id": "0f759ddd-84a5-4cd4-9c21-0fbc4ee75a87",
   "metadata": {},
   "outputs": [
    {
     "name": "stdout",
     "output_type": "stream",
     "text": [
      "TOKENS GERADOS: \n",
      " tensor([[ 101, 3758, 4054, 2810,  374, 8110, 2303,  117,  170, 6732, 2406,  119,\n",
      "          102,    0,    0,    0]])\n"
     ]
    }
   ],
   "source": [
    "print('TOKENS GERADOS: \\n', tokens['input_ids'])"
   ]
  },
  {
   "cell_type": "code",
   "execution_count": 43,
   "id": "de634d75-19e4-45f2-b4e2-09452f01310e",
   "metadata": {},
   "outputs": [
    {
     "name": "stdout",
     "output_type": "stream",
     "text": [
      "VOLTANDO DE TOKENS PARA PALAVRAS: \n",
      " Esse texto será tokenizado, com configurações.\n"
     ]
    }
   ],
   "source": [
    "print('VOLTANDO DE TOKENS PARA PALAVRAS: \\n', tokenizer.decode(tokens['input_ids'][0], skip_special_tokens=True))"
   ]
  },
  {
   "cell_type": "code",
   "execution_count": 44,
   "id": "e907f9f1-149c-4578-b5a2-ed6a75f0ad28",
   "metadata": {},
   "outputs": [
    {
     "data": {
      "text/plain": [
       "{'input_ids': [[101, 21791, 183, 222, 682, 864, 102], [101, 21791, 183, 767, 212, 267, 231, 2009, 774, 119, 102]], 'token_type_ids': [[0, 0, 0, 0, 0, 0, 0], [0, 0, 0, 0, 0, 0, 0, 0, 0, 0, 0]], 'attention_mask': [[1, 1, 1, 1, 1, 1, 1], [1, 1, 1, 1, 1, 1, 1, 1, 1, 1, 1]]}"
      ]
     },
     "execution_count": 44,
     "metadata": {},
     "output_type": "execute_result"
    }
   ],
   "source": [
    "tokenizer(['Texto um dois três', 'Texto X P T O ponto final.'])"
   ]
  },
  {
   "cell_type": "markdown",
   "id": "7036b0cc-53fc-4a1f-8947-ceb2e97ce3af",
   "metadata": {},
   "source": [
    "### Treinando seu tokenizer (Hugging Face)"
   ]
  },
  {
   "cell_type": "code",
   "execution_count": 59,
   "id": "24dc2cf6-9e48-4ff5-be6f-08b542c9fac4",
   "metadata": {},
   "outputs": [],
   "source": [
    "from tokenizers import (\n",
    "    Tokenizer,\n",
    "    models,\n",
    "    pre_tokenizers,\n",
    "    trainers\n",
    ")"
   ]
  },
  {
   "cell_type": "code",
   "execution_count": 88,
   "id": "8739918e-cb16-462f-955c-188e97ea86ed",
   "metadata": {},
   "outputs": [],
   "source": [
    "tokenizer = Tokenizer(models.WordLevel(unk_token=\"[UNK]\"))"
   ]
  },
  {
   "cell_type": "code",
   "execution_count": 89,
   "id": "18a6f195-8771-415f-b944-192bc46729a1",
   "metadata": {},
   "outputs": [],
   "source": [
    "tokenizer.pre_tokenizer = pre_tokenizers.Whitespace()"
   ]
  },
  {
   "cell_type": "code",
   "execution_count": 90,
   "id": "c613794a-67d2-4ade-b4d9-95c0c197ecb1",
   "metadata": {},
   "outputs": [
    {
     "name": "stdout",
     "output_type": "stream",
     "text": [
      "[('Esse', (0, 4)), ('texto', (5, 10)), ('será', (11, 15)), ('tokenizado', (16, 26)), ('por', (27, 30)), ('palavra', (31, 38)), ('.', (38, 39))]\n"
     ]
    }
   ],
   "source": [
    "texto = 'Esse texto será tokenizado por palavra.'\n",
    "print(tokenizer.pre_tokenizer.pre_tokenize_str(texto))"
   ]
  },
  {
   "cell_type": "code",
   "execution_count": 91,
   "id": "6be3bfec-fbd7-40a9-80b9-8102d818a61f",
   "metadata": {},
   "outputs": [],
   "source": [
    "trainer = trainers.WordLevelTrainer(vocab_size=10, special_tokens=[\"[PAD]\", \"[UNK]\", \"[CLS]\", \"[SEP]\", \"[MASK]\"])"
   ]
  },
  {
   "cell_type": "code",
   "execution_count": 92,
   "id": "a6f1d202-e9f4-4b85-92d8-f8cf2defbabf",
   "metadata": {},
   "outputs": [
    {
     "data": {
      "text/plain": [
       "['esse', 'é', '[UNK]']"
      ]
     },
     "execution_count": 92,
     "metadata": {},
     "output_type": "execute_result"
    }
   ],
   "source": [
    "tokenizer.train_from_iterator([\"esse é um texto teste\"], trainer=trainer)\n",
    "\n",
    "output = tokenizer.encode(\"esse é maça\")\n",
    "\n",
    "output.tokens"
   ]
  },
  {
   "cell_type": "code",
   "execution_count": 93,
   "id": "f3446e2c-562f-4a6b-96d5-9a1efbb38c84",
   "metadata": {},
   "outputs": [
    {
     "data": {
      "text/plain": [
       "{'é': 9,\n",
       " '[SEP]': 3,\n",
       " '[CLS]': 2,\n",
       " 'teste': 6,\n",
       " '[UNK]': 1,\n",
       " 'texto': 7,\n",
       " 'um': 8,\n",
       " 'esse': 5,\n",
       " '[PAD]': 0,\n",
       " '[MASK]': 4}"
      ]
     },
     "execution_count": 93,
     "metadata": {},
     "output_type": "execute_result"
    }
   ],
   "source": [
    "tokenizer.get_vocab()"
   ]
  },
  {
   "cell_type": "markdown",
   "id": "9f17bfb4-826c-4446-9635-9e03e51fc4d2",
   "metadata": {},
   "source": [
    "#### Normalizers"
   ]
  },
  {
   "cell_type": "markdown",
   "id": "660d27c8-8c58-4df2-b56a-d8afeae72d97",
   "metadata": {},
   "source": [
    "As vezes você pode desejar normalizar o texto, ou seja, fazer transformações no texto antes de tokenizar, como remover ascentos, deixar tudo minusculo, remover mais de um espaço em branco vamos fazer isso."
   ]
  },
  {
   "cell_type": "code",
   "execution_count": 104,
   "id": "43b46bdb-7d12-4682-92a3-a2a89fb974ab",
   "metadata": {},
   "outputs": [],
   "source": [
    "from tokenizers import normalizers, Regex"
   ]
  },
  {
   "cell_type": "code",
   "execution_count": 126,
   "id": "f4cd50a2-c8a6-440d-bac9-baf789813735",
   "metadata": {},
   "outputs": [],
   "source": [
    "tokenizer.normalizer = normalizers.Sequence(\n",
    "    [\n",
    "        normalizers.Lowercase(),  # Normalizador de minúsculas\n",
    "        normalizers.Replace(\"maça\", \"texto\"),  # Substituir normalizador\n",
    "        normalizers.NFC(),  # Normalizador NFC Unicode\n",
    "        normalizers.NFD(),  # Normalizador NFC Unicode\n",
    "        normalizers.NFKC(),  # Normalizador Unicode NFKC\n",
    "        normalizers.NFKD(),  # Normalizador Unicode NFKD\n",
    "        normalizers.Prepend('teste '),  # adiciona um prefixo no texto\n",
    "        normalizers.Strip(),  # Remove espaços em branco no início e no final do texto.\n",
    "        normalizers.StripAccents()  # Remove acentos e diacríticos dos caracteres.\n",
    "    ]\n",
    ")"
   ]
  },
  {
   "cell_type": "code",
   "execution_count": 143,
   "id": "0e6ffb20-33b7-4857-9147-21773bd9923f",
   "metadata": {},
   "outputs": [
    {
     "data": {
      "text/plain": [
       "['[CLS]', 'teste', 'esse', 'e', 'texto', '[PAD]']"
      ]
     },
     "execution_count": 143,
     "metadata": {},
     "output_type": "execute_result"
    }
   ],
   "source": [
    "tokenizer.train_from_iterator([\"esse é um texto teste\"], trainer=trainer)\n",
    "\n",
    "output = tokenizer.encode(\"[CLS] esse é maça [PAD]\")\n",
    "\n",
    "output.tokens"
   ]
  },
  {
   "cell_type": "code",
   "execution_count": 144,
   "id": "0b74e147-c339-4c28-904c-b8e087ec7c6b",
   "metadata": {},
   "outputs": [
    {
     "data": {
      "text/plain": [
       "[2, 5, 7, 6, 8, 0]"
      ]
     },
     "execution_count": 144,
     "metadata": {},
     "output_type": "execute_result"
    }
   ],
   "source": [
    "output.ids"
   ]
  },
  {
   "cell_type": "code",
   "execution_count": 134,
   "id": "1b491eb1-b96b-445d-97c0-81c58ee9589f",
   "metadata": {},
   "outputs": [],
   "source": [
    "from transformers import PreTrainedTokenizerFast"
   ]
  },
  {
   "cell_type": "code",
   "execution_count": 135,
   "id": "8cd2227b-93e1-499e-9eeb-433d0519f360",
   "metadata": {},
   "outputs": [
    {
     "name": "stderr",
     "output_type": "stream",
     "text": [
      "/media/agentsmith/Novo volume/disco M/Python/venvs/env_linux/lib/python3.12/site-packages/transformers/tokenization_utils_base.py:1601: FutureWarning: `clean_up_tokenization_spaces` was not set. It will be set to `True` by default. This behavior will be depracted in transformers v4.45, and will be then set to `False` by default. For more details check this issue: https://github.com/huggingface/transformers/issues/31884\n",
      "  warnings.warn(\n"
     ]
    }
   ],
   "source": [
    "wrapped_tokenizer = PreTrainedTokenizerFast(\n",
    "    tokenizer_object=tokenizer,\n",
    "    bos_token=\"[SEP]\",\n",
    "    eos_token=\"[SEP]\",\n",
    "    unk_token=\"[UNK]\",\n",
    "    pad_token=\"[PAD]\",\n",
    "    mask_token=\"[MASK]\",\n",
    "    cls_token=\"[CLS]\",\n",
    ")"
   ]
  },
  {
   "cell_type": "code",
   "execution_count": 137,
   "id": "f8c57109-c52d-4b52-a322-f87a120bfbcc",
   "metadata": {},
   "outputs": [
    {
     "data": {
      "text/plain": [
       "[5, 7, 6, 8]"
      ]
     },
     "execution_count": 137,
     "metadata": {},
     "output_type": "execute_result"
    }
   ],
   "source": [
    "wrapped_tokenizer.encode('esse é maça', add_special_tokens=)"
   ]
  },
  {
   "cell_type": "markdown",
   "id": "b5062c78-f5a0-438c-9dee-d9e6cc80af43",
   "metadata": {},
   "source": [
    "## Refeências (References)\n",
    "\n",
    "- [tiktoken](https://github.com/openai/tiktoken)\n",
    "- [tiktoken cookbook](https://cookbook.openai.com/examples/how_to_count_tokens_with_tiktoken)\n",
    "- [Aula Andrej Karpathy](https://www.youtube.com/watch?v=zduSFxRajkE&t=369s)\n",
    "- [Hugging Face - Tokenize](https://huggingface.co/docs/transformers/main_classes/tokenizer)\n",
    "- [Hugging Face](https://huggingface.co/docs/tokenizers/index)\n",
    "- [tiktokenizer](https://tiktokenizer.vercel.app/)"
   ]
  },
  {
   "attachments": {
    "15844b94-28e5-4b7b-92ee-f1afa9d36356.png": {
     "image/png": "[encoded data removed]"
    }
   },
   "cell_type": "markdown",
   "id": "c12f8551-9753-4cd3-9763-2606da4ae930",
   "metadata": {},
   "source": [
    "![image.png](attachment:15844b94-28e5-4b7b-92ee-f1afa9d36356.png)"
   ]
  },
  {
   "cell_type": "code",
   "execution_count": null,
   "id": "b611cf7f-72e4-42ca-a7e7-1ce531a76c3d",
   "metadata": {},
   "outputs": [],
   "source": []
  }
 ],
 "metadata": {
  "kernelspec": {
   "display_name": "Linux",
   "language": "python",
   "name": "env_linux"
  },
  "language_info": {
   "codemirror_mode": {
    "name": "ipython",
    "version": 3
   },
   "file_extension": ".py",
   "mimetype": "text/x-python",
   "name": "python",
   "nbconvert_exporter": "python",
   "pygments_lexer": "ipython3",
   "version": "3.12.5"
  }
 },
 "nbformat": 4,
 "nbformat_minor": 5
}
